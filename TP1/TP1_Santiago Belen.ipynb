{
 "cells": [
  {
   "cell_type": "code",
   "execution_count": 1,
   "metadata": {},
   "outputs": [],
   "source": [
    "# Utilidades del sistema\n",
    "import os\n",
    "import time\n",
    "\n",
    "# Bibliotecas externas\n",
    "from tqdm.auto import tqdm\n",
    "\n",
    "# Procesamiento de documentos\n",
    "from odf.opendocument import load\n",
    "from odf.text import P\n",
    "\n",
    "# LangChain y módulos relacionados\n",
    "from langchain_openai import ChatOpenAI, OpenAIEmbeddings\n",
    "from langchain.text_splitter import RecursiveCharacterTextSplitter\n",
    "from langchain.schema import Document\n",
    "from langchain.chains import RetrievalQA\n",
    "\n",
    "# Pinecone y módulos relacionados\n",
    "from pinecone import Pinecone, ServerlessSpec\n",
    "from langchain_pinecone import PineconeVectorStore\n",
    "\n",
    "# Obtiene las claves API necesarias desde las variables de entorno\n",
    "OPENAI_API_KEY = os.getenv(\"OPENAI_API_KEY\") \n",
    "LANGCHAIN_TRACING_V2 = os.getenv(\"LANGCHAIN_TRACING_V2\") \n",
    "LANGCHAIN_API_KEY = os.getenv(\"LANGCHAIN_API_KEY\")\n",
    "LANGCHAIN_PROJECT=\"pr-plaintive-radar-87\"\n",
    "PINECONE_API_KEY = os.getenv(\"PINECONE_API_KEY\") \n",
    "\n",
    "assert OPENAI_API_KEY is not None, \"OPENAI_API_KEY is not set\"\n",
    "assert LANGCHAIN_TRACING_V2 is not None, \"LANGCHAIN_TRACING_V2 is not set\"\n",
    "assert LANGCHAIN_API_KEY is not None, \"LANGCHAIN_API_KEY is not set\"\n",
    "\n",
    "# Inicializa el modelo de chat de OpenAI con configuración personalizada\n",
    "chat = ChatOpenAI(\n",
    "    openai_api_key=OPENAI_API_KEY,  # Utiliza la clave API para autenticar la conexión con OpenAI\n",
    "    model='gpt-3.5-turbo',  # Especifica el modelo de lenguaje a usar\n",
    "    temperature=0,  # Control de creatividad (0 hace que el output sea más determinista)\n",
    "    streaming=True  # Permite la transmisión de resultados conforme se generan\n",
    ")"
   ]
  },
  {
   "cell_type": "code",
   "execution_count": 2,
   "metadata": {},
   "outputs": [
    {
     "name": "stdout",
     "output_type": "stream",
     "text": [
      "3072\n"
     ]
    }
   ],
   "source": [
    "### EMBEDDINGS\n",
    "# Inicializa un modelo de embeddings\n",
    "embed_model = OpenAIEmbeddings(model=\"text-embedding-3-large\") \n",
    "\n",
    "# Genera el embedding de la palabra 'hola' y muestra la longitud del vector\n",
    "print(len(embed_model.embed_query('hola')))  \n"
   ]
  },
  {
   "cell_type": "code",
   "execution_count": 3,
   "metadata": {},
   "outputs": [],
   "source": [
    "# Ruta de la carpeta donde se encuentran los documentos .odt\n",
    "carpeta= \"docs_odt\""
   ]
  },
  {
   "cell_type": "code",
   "execution_count": 4,
   "metadata": {},
   "outputs": [],
   "source": [
    "# Función para leer todos los documentos .odt en una carpeta\n",
    "def leer_documentos_odt(carpeta):\n",
    "    documentos = {}\n",
    "    for archivo in os.listdir(carpeta):\n",
    "        if archivo.endswith(\".odt\"):  # Verifica que el archivo sea .odt\n",
    "            ruta_archivo = os.path.join(carpeta, archivo)\n",
    "            # Cargar el archivo .odt\n",
    "            documento = load(ruta_archivo)\n",
    "            contenido = []\n",
    "            # Extraer el texto de los párrafos\n",
    "            for elemento in documento.getElementsByType(P):\n",
    "                contenido.append(str(elemento))\n",
    "            documentos[archivo] = \"\\n\".join(contenido)\n",
    "    return documentos"
   ]
  },
  {
   "cell_type": "code",
   "execution_count": 5,
   "metadata": {},
   "outputs": [],
   "source": [
    "# Leemos los documentos en un diccionario {nombre_archivo: contenido}\n",
    "docs_dict = leer_documentos_odt(carpeta)"
   ]
  },
  {
   "cell_type": "code",
   "execution_count": 6,
   "metadata": {},
   "outputs": [
    {
     "data": {
      "text/plain": [
       "{'octavio_cv.odt': \"\\nOctavio Deshays\\nMechatronics Engineer - National University of Cuyo\\nMendoza, Argentina\\n22/12/1997\\n+54 9 2615538396\\noctaviodeshays@gmail.com\\nln: Octavio Deshays Moreno\\nEXPERIENCE\\nMARVIK, Uruguay — Machine Learning Engineer\\nDecember 2022 - Present\\nMarvik is a hands-on ML consulting firm. In my role, I am involved in the entire process of developing an AI solution, from identifying the customer's problem to implementing the solution.\\nProjects: \\nPhotoStudio Editor: an app to allow sellers from the largest E-Commerce in LatinAmerica to edit their products images using Stable Diffusion, generating attractive backgrounds for each product. Currently in production being used by thousands of users every hour.\\nFashion Recommendation System: designed and built MVP for a Tinder like recsys for a fashion company. Involved building a feature extraction pipeline for garments using CLIP based classifiers and a Reinforcement Learning algorithm.\\nVirtual Try On: for this project, I worked in both image processor and Diffusion pipeline used to generate a Try On\\nConveyor Belt Control: Utilized computer vision to monitor the entry of wooden logs into machinery in a paper mill. Involved the use of a Jetson device, frame processing, and the development of a control algorithm based on outputs from AI models.\\nUsed technologies: \\nMultimodal Neural Networks, CNN, Classification models, Image Segmentation, Image Enhancement, Stable Diffusion, Data Extraction pipelines. \\nRecommendation Systems, Clustering, Reinforcement Learning. \\nPython, Docker, Fast API, AWS: EC2, S3. \\nDEEP AGRO, Argentina — Machine Learning Engineer\\nMarch 2021 - November 2022\\nDeepAgro is an agtech start up with the mission of creating a brighter future for Agriculture by using innovation and Artificial Intelligence. I was in charge of developing, testing, maintaining and deploying production ready computer vision models on edge devices. \\n\\nUsed technologies:\\n- Convolutional Neural Networks, YOLO, Generative Adversarial Networks, Decision Trees, Random Forest, Image classification, Object Tracking.\\n- Pytorch, TensorFlow, Darknet, ScikitLearn, TensorRT , OpenCV, Google Data Studio.\\n- Python, C++, linux.\\nINCA JUNIOR ENTERPRISE, Argentina — Innovation and Development Department Coordinator\\nJanuary 2021 - January 2021\\nINCA JE is a Non-profit organization that seeks to strengthen university education, linking students with small companies.\\nIntroduction to Python Course: design and delivery of introductory course for university students\\nPitching Ideas: design and delivery of a Pitching workshop.\\nNational University of Cuyo, Argentina— Teacher Assistant\\nMarch 2018 - March 2019\\nI assisted students during classes, helping them to solve problems with Analytic Geometry. \\n\\n\\nEDUCATION\\nUniversity of Buenos Aires, Argentina — Post Graduate Specialization in Artificial Intelligence \\nPost graduate university degree in Artificial Intelligence, covering all topics from classic Machine Learning algorithms to Generative AI. \\nAugust 2023 - March 2025\\nNational University of Cuyo, Argentina — Degree in Mechatronics Engineering\\nMARCH 2016 - MAY 2022\\nUniversity degree in Mechatronics with an average grade of 8.91, which is the best grade of the Mechatronics Class of 2016 and the fourth best among all students in the Engineering School.\\nBest Graduate Mechatronic Engineering class 2022. \\nUniversity Of Alabama, EEUU — Fulbright Scholar\\nAUGUST 2021 - OCTOBER 2021\\nIn December 2020 I was awarded a scholarship called Friends of Fulbright, which is given by the Argentine Fulbright Commission and it is sponsored by the US Embassy. Thanks to this, I spent two months at the University of Alabama, where I was able to take the following courses: \\nComputational Intelligence\\nIntro to Autonomous Robotics\\nIdentifying and Pitching Opportunities\\nAdvanced English Language Classes. \\nPROJECTS\\nTo infinity and Beyond — Digital Twin Development\\nWinning team of the Open Space contest that launched an experiment into space in one of the satellites of the company Satellogic. \\nMy job consisted of the development of Artificial Intelligence Models for Satellite Temperature Prediction and Cloud Segmentation together with a WebbApp that allows users to interact with the Satellite Data. All this work was also part of my Mechatronics Engineering Final Project, which can be seen here. Thanks to my work on this project, I can proudly say that my name is in space!\\nAWARDS\\nMember of the National Flag honor group. Honor I received for having the fourth best Grade rate of the 2016 Engineering School Class. (certification)\\nBest Graduate Mechatronic Engineering class 2022. \\nVolunteering\\nEmpate Foundation. Futbol Coach for young adults with Down Syndrome. \\nLANGUAGES\\nEnglish - C1 level TOEFL iBT 104/120\\n\\n\",\n",
       " 'santiago_cv.odt': 'Santiago Francisco BELEN DEAS\\nPersonal Information\\nAddress: Av. Corrientes 16204piso Dto: “B” CP: 1042 Nationality: Argentine and Spanish.\\nCity: Capital Federal, Buenos Aires, Argentina\\nPhone Number: +54 9 11-5715-9118\\nDate of Birth: 26/06/1984\\nNational ID: 32.182.510\\nE-mail: Sbelen@fmed.uba.ar\\nProfessional Profile\\nMedical Specialist in Internal Medicine and Clinical Research Professional with extensive knowledge in multiple therapeutic areas, currently pursuing a Specialization in Artificial Intelligence at the University of Buenos Aires.\\nExperienced Teaching Physician in Clinical Examination and Internal Medicine, with a strong commitment to medical education and clinical supervision. Actively participated as a Sub-Investigator in Phase 2/3 clinical trials, contributing to pivotal studies, includ ing Pfizer’s RSV and Influenza vaccines (C3671013 / C4781004), Moderna’s RSV and Influenza vaccines (mRNA-1345-P301 / mRNA1010-P301), and Medicago’s COVID-19 vaccine (CP-PRO-CoVLP-021).\\nDemonstrated leadership and mentorship in clinical and academic settings, fostering a collaborative learning environment for emerging medical professionals.\\n1\\nEducation\\nCurrent Studies\\n2024 – Present\\nSpecialization in Artificial Intelligence(In Progress)\\nFaculty of Engineering, University of Buenos Aires (UBA), Argentina\\nUniversity\\n2011 – 2015\\nDegree Obtained: Medical Specialist in Internal Medicine\\nFaculty of Medical Sciences, University of Buenos Aires (UBA)\\nOverall GPA: 9/10\\n2003 – 2011\\nDegree Obtained: Medical Doctor\\nFaculty of Medical Sciences, University of Buenos Aires (UBA)\\nOverall GPA: 8.61/10\\nHigh School Education\\n2001\\nDegree Obtained: High School Diploma with specialization in Computer Systems San Roque Institute, Buenos Aires City\\n2\\nProfessional Experience\\nJan 2022 – Nov 2024\\nSub-Investigator for Phase 3 Clinical Trials\\nEquipo Ciencia CRO\\nActively contributed to pivotal Phase 3 clinical trials, including studies for Pfizer’s RSV and Influenza vaccines (C3671013 / C4781004), Moderna’s RSV and Influenza vaccines (mRNA-1345-P301 / mRNA1010-P301), and Medicago’s COVID-19 vaccine (CP-PRO CoVLP-021). Responsibilities included identification of adverse events, protocol adher ence, data management, and maintaining compliance with Good Clinical Practice (GCP) standards.\\n2015 – 2022\\nMedical Specialist in Internal Medicine\\nDelivered specialized care for complex cases in internal medicine, employing evidence based practices to improve patient outcomes. Participated in interdisciplinary collabora tion and provided guidance on patient care in hospital settings.\\n2018 – 2021\\nResearch Fellow in Basic and Clinical Immunology and Immunopathology INIGEM-CONICET\\nContributed to multiple research publications and presented findings at national and international conferences, collaborating with multidisciplinary teams to advance the field.\\n2015 – 2018\\nTeaching Physician in Clinical Examination and Internal Medicine 5th Chair of Internal Medicine, Hospital de Cl´ınicas Jos´e de San Mart´ın, Buenos Aires, Argentina\\nProvided both theoretical and practical instruction in clinical examination and internal medicine. Mentored medical students and residents, emphasizing diagnostic accuracy, clinical skills, and patient-centered approaches. Supervised clinical rotations and facili tated skill-building in a collaborative learning environment.\\n2011 – 2015\\nResidency in Internal Medicine\\n5th Chair of Internal Medicine, Hospital de Cl´ınicas Jos´e de San Mart´ın, Buenos Aires, Argentina\\nCompleted an intensive residency with rotations in multiple internal medicine subspecial ties, gaining expertise in patient management, emergency care, and complex diagnostics in a high-volume academic hospital.\\n3\\n2002 – 2005\\nAdministrative Assistant\\nUnited Nations Development Programme (UNDP), based at the Secretariat of Industry, Ministry of Economy of Argentina\\nProvided administrative support including documentation, reporting, and inter-departmental communication.\\nCourses\\n2004\\nIntensive Course on Fundamentals of Clinical Genetics\\nFaculty of Medical Sciences, University of Buenos Aires (UBA)\\n2010\\nCourse for Clinical Study Investigators and GCP (Good Clinical Prac tice)\\nFoundation for Pharmacological and Drug Studies “Prof. Luis M. Zieher”\\n2013\\nAdvanced Cardiovascular Life Support (ACLS)\\nArgentine Cardiological Foundation\\n2014\\nAdvanced Trauma Life Support (ATLS)\\nAmerican College of Surgeons\\n2015\\nBasic Theoretical-Practical Course on Flow Cytometry\\nRioplatense Group of Flow Cytometry\\n2019\\nApplied Statistics in Health Sciences\\nFaculty of Pharmacy and Biochemistry, University of Buenos Aires (UBA)\\n2019\\nTraining in Database Management for Biomedical Sciences\\nFaculty of Medical Sciences, National University of Rosario\\n2019\\nResearch Methodology\\nFaculty of Pharmacy and Biochemistry, University of Buenos Aires (UBA)\\n2021\\nClinical Research Associate\\nVIARES, Clinical Research Talent Company, Vienna, Austria\\n2021\\nProject Management in Clinical Research\\nVIARES, Clinical Research Talent Company, Vienna, Austria\\n4\\nConferences\\nSpeaker\\n– Systematic Study and Treatment: Chronic Anemias with Normal MGV (2016) – Pathogenesis of Systemic Lupus Erythematosus(Main Topic, 2018)– Immunosuppressants in Autoimmune Disease: Preventive Measures (2018)\\nCoordinator\\n– Undifferentiated Arthritis: Therapeutic Management (2018)\\nOther Skills\\nComputing\\n– Clinical Data Management: Medidata Rave\\n– Office Suite: Word, Excel, PowerPoint\\n– Interactive Report Generation: Microsoft Power BI\\n– Statistical Software: GraphPad Prism, Minitab\\n– Programming: R Language, Python (Data Analysis and Visualization) – Design: LaTeX (Typesetting), CorelDRAW (Visual Composition)\\nLanguages\\n– English\\n* Fluent: Reading / Writing\\n* Intermediate / Advanced: Speaking\\n5',\n",
       " 'tenorio_cv.odt': 'Isaias Tenorio\\n\\nProfesional de la docencia con una sólida trayectoria. Soy capaz de coordinar el plan educativo, gestionar programas alternativos de enseñanza y desarrollar las tareas administrativas vinculadas al cargo. \\n\\nSobre míMe defino por ser una persona con ganas de aprender y un gran líder de equipos multidisciplinares.\\n\\n\\nSobre mí\\nMe defino por ser una persona con ganas de aprender y un gran líder de equipos multidisciplinares.\\n\\nDocente de la Universidad de Buenos Aires (UBA).\\nEn las asignaturas de Matemáticas, Álgebra y Análisis Matemático 1 – Facultad de Ciencias Económicas- 2019 – Actual.\\n\\nAyudante de Cátedra de la Universidad de Buenos Aires (UBA).\\nEn las asignaturas de Matemáticas, Álgebra y Análisis Matemático 1 – Facultad de Ciencias Económicas- 2017- 2018\\n\\n\\n\\nTítulo: Universidad Nacional Pedro Ruiz Gallo\\nLicenciado en Matemáticas\\n\\nPosgrado: Universidad de Buenos Aires\\n\\nEspecialización en inteligencia artificial - FIUBA\\n\\n'}"
      ]
     },
     "execution_count": 6,
     "metadata": {},
     "output_type": "execute_result"
    }
   ],
   "source": [
    "docs_dict"
   ]
  },
  {
   "cell_type": "code",
   "execution_count": 7,
   "metadata": {},
   "outputs": [],
   "source": [
    "# Ahora creamos la lista de Documents con su contenido real\n",
    "documents = [Document(page_content=contenido, metadata={\"source\": nombre_archivo}) \n",
    "                   for nombre_archivo, contenido in docs_dict.items()]"
   ]
  },
  {
   "cell_type": "code",
   "execution_count": 8,
   "metadata": {},
   "outputs": [
    {
     "data": {
      "text/plain": [
       "[Document(metadata={'source': 'octavio_cv.odt'}, page_content=\"\\nOctavio Deshays\\nMechatronics Engineer - National University of Cuyo\\nMendoza, Argentina\\n22/12/1997\\n+54 9 2615538396\\noctaviodeshays@gmail.com\\nln: Octavio Deshays Moreno\\nEXPERIENCE\\nMARVIK, Uruguay — Machine Learning Engineer\\nDecember 2022 - Present\\nMarvik is a hands-on ML consulting firm. In my role, I am involved in the entire process of developing an AI solution, from identifying the customer's problem to implementing the solution.\\nProjects: \\nPhotoStudio Editor: an app to allow sellers from the largest E-Commerce in LatinAmerica to edit their products images using Stable Diffusion, generating attractive backgrounds for each product. Currently in production being used by thousands of users every hour.\\nFashion Recommendation System: designed and built MVP for a Tinder like recsys for a fashion company. Involved building a feature extraction pipeline for garments using CLIP based classifiers and a Reinforcement Learning algorithm.\\nVirtual Try On: for this project, I worked in both image processor and Diffusion pipeline used to generate a Try On\\nConveyor Belt Control: Utilized computer vision to monitor the entry of wooden logs into machinery in a paper mill. Involved the use of a Jetson device, frame processing, and the development of a control algorithm based on outputs from AI models.\\nUsed technologies: \\nMultimodal Neural Networks, CNN, Classification models, Image Segmentation, Image Enhancement, Stable Diffusion, Data Extraction pipelines. \\nRecommendation Systems, Clustering, Reinforcement Learning. \\nPython, Docker, Fast API, AWS: EC2, S3. \\nDEEP AGRO, Argentina — Machine Learning Engineer\\nMarch 2021 - November 2022\\nDeepAgro is an agtech start up with the mission of creating a brighter future for Agriculture by using innovation and Artificial Intelligence. I was in charge of developing, testing, maintaining and deploying production ready computer vision models on edge devices. \\n\\nUsed technologies:\\n- Convolutional Neural Networks, YOLO, Generative Adversarial Networks, Decision Trees, Random Forest, Image classification, Object Tracking.\\n- Pytorch, TensorFlow, Darknet, ScikitLearn, TensorRT , OpenCV, Google Data Studio.\\n- Python, C++, linux.\\nINCA JUNIOR ENTERPRISE, Argentina — Innovation and Development Department Coordinator\\nJanuary 2021 - January 2021\\nINCA JE is a Non-profit organization that seeks to strengthen university education, linking students with small companies.\\nIntroduction to Python Course: design and delivery of introductory course for university students\\nPitching Ideas: design and delivery of a Pitching workshop.\\nNational University of Cuyo, Argentina— Teacher Assistant\\nMarch 2018 - March 2019\\nI assisted students during classes, helping them to solve problems with Analytic Geometry. \\n\\n\\nEDUCATION\\nUniversity of Buenos Aires, Argentina — Post Graduate Specialization in Artificial Intelligence \\nPost graduate university degree in Artificial Intelligence, covering all topics from classic Machine Learning algorithms to Generative AI. \\nAugust 2023 - March 2025\\nNational University of Cuyo, Argentina — Degree in Mechatronics Engineering\\nMARCH 2016 - MAY 2022\\nUniversity degree in Mechatronics with an average grade of 8.91, which is the best grade of the Mechatronics Class of 2016 and the fourth best among all students in the Engineering School.\\nBest Graduate Mechatronic Engineering class 2022. \\nUniversity Of Alabama, EEUU — Fulbright Scholar\\nAUGUST 2021 - OCTOBER 2021\\nIn December 2020 I was awarded a scholarship called Friends of Fulbright, which is given by the Argentine Fulbright Commission and it is sponsored by the US Embassy. Thanks to this, I spent two months at the University of Alabama, where I was able to take the following courses: \\nComputational Intelligence\\nIntro to Autonomous Robotics\\nIdentifying and Pitching Opportunities\\nAdvanced English Language Classes. \\nPROJECTS\\nTo infinity and Beyond — Digital Twin Development\\nWinning team of the Open Space contest that launched an experiment into space in one of the satellites of the company Satellogic. \\nMy job consisted of the development of Artificial Intelligence Models for Satellite Temperature Prediction and Cloud Segmentation together with a WebbApp that allows users to interact with the Satellite Data. All this work was also part of my Mechatronics Engineering Final Project, which can be seen here. Thanks to my work on this project, I can proudly say that my name is in space!\\nAWARDS\\nMember of the National Flag honor group. Honor I received for having the fourth best Grade rate of the 2016 Engineering School Class. (certification)\\nBest Graduate Mechatronic Engineering class 2022. \\nVolunteering\\nEmpate Foundation. Futbol Coach for young adults with Down Syndrome. \\nLANGUAGES\\nEnglish - C1 level TOEFL iBT 104/120\\n\\n\"),\n",
       " Document(metadata={'source': 'santiago_cv.odt'}, page_content='Santiago Francisco BELEN DEAS\\nPersonal Information\\nAddress: Av. Corrientes 16204piso Dto: “B” CP: 1042 Nationality: Argentine and Spanish.\\nCity: Capital Federal, Buenos Aires, Argentina\\nPhone Number: +54 9 11-5715-9118\\nDate of Birth: 26/06/1984\\nNational ID: 32.182.510\\nE-mail: Sbelen@fmed.uba.ar\\nProfessional Profile\\nMedical Specialist in Internal Medicine and Clinical Research Professional with extensive knowledge in multiple therapeutic areas, currently pursuing a Specialization in Artificial Intelligence at the University of Buenos Aires.\\nExperienced Teaching Physician in Clinical Examination and Internal Medicine, with a strong commitment to medical education and clinical supervision. Actively participated as a Sub-Investigator in Phase 2/3 clinical trials, contributing to pivotal studies, includ ing Pfizer’s RSV and Influenza vaccines (C3671013 / C4781004), Moderna’s RSV and Influenza vaccines (mRNA-1345-P301 / mRNA1010-P301), and Medicago’s COVID-19 vaccine (CP-PRO-CoVLP-021).\\nDemonstrated leadership and mentorship in clinical and academic settings, fostering a collaborative learning environment for emerging medical professionals.\\n1\\nEducation\\nCurrent Studies\\n2024 – Present\\nSpecialization in Artificial Intelligence(In Progress)\\nFaculty of Engineering, University of Buenos Aires (UBA), Argentina\\nUniversity\\n2011 – 2015\\nDegree Obtained: Medical Specialist in Internal Medicine\\nFaculty of Medical Sciences, University of Buenos Aires (UBA)\\nOverall GPA: 9/10\\n2003 – 2011\\nDegree Obtained: Medical Doctor\\nFaculty of Medical Sciences, University of Buenos Aires (UBA)\\nOverall GPA: 8.61/10\\nHigh School Education\\n2001\\nDegree Obtained: High School Diploma with specialization in Computer Systems San Roque Institute, Buenos Aires City\\n2\\nProfessional Experience\\nJan 2022 – Nov 2024\\nSub-Investigator for Phase 3 Clinical Trials\\nEquipo Ciencia CRO\\nActively contributed to pivotal Phase 3 clinical trials, including studies for Pfizer’s RSV and Influenza vaccines (C3671013 / C4781004), Moderna’s RSV and Influenza vaccines (mRNA-1345-P301 / mRNA1010-P301), and Medicago’s COVID-19 vaccine (CP-PRO CoVLP-021). Responsibilities included identification of adverse events, protocol adher ence, data management, and maintaining compliance with Good Clinical Practice (GCP) standards.\\n2015 – 2022\\nMedical Specialist in Internal Medicine\\nDelivered specialized care for complex cases in internal medicine, employing evidence based practices to improve patient outcomes. Participated in interdisciplinary collabora tion and provided guidance on patient care in hospital settings.\\n2018 – 2021\\nResearch Fellow in Basic and Clinical Immunology and Immunopathology INIGEM-CONICET\\nContributed to multiple research publications and presented findings at national and international conferences, collaborating with multidisciplinary teams to advance the field.\\n2015 – 2018\\nTeaching Physician in Clinical Examination and Internal Medicine 5th Chair of Internal Medicine, Hospital de Cl´ınicas Jos´e de San Mart´ın, Buenos Aires, Argentina\\nProvided both theoretical and practical instruction in clinical examination and internal medicine. Mentored medical students and residents, emphasizing diagnostic accuracy, clinical skills, and patient-centered approaches. Supervised clinical rotations and facili tated skill-building in a collaborative learning environment.\\n2011 – 2015\\nResidency in Internal Medicine\\n5th Chair of Internal Medicine, Hospital de Cl´ınicas Jos´e de San Mart´ın, Buenos Aires, Argentina\\nCompleted an intensive residency with rotations in multiple internal medicine subspecial ties, gaining expertise in patient management, emergency care, and complex diagnostics in a high-volume academic hospital.\\n3\\n2002 – 2005\\nAdministrative Assistant\\nUnited Nations Development Programme (UNDP), based at the Secretariat of Industry, Ministry of Economy of Argentina\\nProvided administrative support including documentation, reporting, and inter-departmental communication.\\nCourses\\n2004\\nIntensive Course on Fundamentals of Clinical Genetics\\nFaculty of Medical Sciences, University of Buenos Aires (UBA)\\n2010\\nCourse for Clinical Study Investigators and GCP (Good Clinical Prac tice)\\nFoundation for Pharmacological and Drug Studies “Prof. Luis M. Zieher”\\n2013\\nAdvanced Cardiovascular Life Support (ACLS)\\nArgentine Cardiological Foundation\\n2014\\nAdvanced Trauma Life Support (ATLS)\\nAmerican College of Surgeons\\n2015\\nBasic Theoretical-Practical Course on Flow Cytometry\\nRioplatense Group of Flow Cytometry\\n2019\\nApplied Statistics in Health Sciences\\nFaculty of Pharmacy and Biochemistry, University of Buenos Aires (UBA)\\n2019\\nTraining in Database Management for Biomedical Sciences\\nFaculty of Medical Sciences, National University of Rosario\\n2019\\nResearch Methodology\\nFaculty of Pharmacy and Biochemistry, University of Buenos Aires (UBA)\\n2021\\nClinical Research Associate\\nVIARES, Clinical Research Talent Company, Vienna, Austria\\n2021\\nProject Management in Clinical Research\\nVIARES, Clinical Research Talent Company, Vienna, Austria\\n4\\nConferences\\nSpeaker\\n– Systematic Study and Treatment: Chronic Anemias with Normal MGV (2016) – Pathogenesis of Systemic Lupus Erythematosus(Main Topic, 2018)– Immunosuppressants in Autoimmune Disease: Preventive Measures (2018)\\nCoordinator\\n– Undifferentiated Arthritis: Therapeutic Management (2018)\\nOther Skills\\nComputing\\n– Clinical Data Management: Medidata Rave\\n– Office Suite: Word, Excel, PowerPoint\\n– Interactive Report Generation: Microsoft Power BI\\n– Statistical Software: GraphPad Prism, Minitab\\n– Programming: R Language, Python (Data Analysis and Visualization) – Design: LaTeX (Typesetting), CorelDRAW (Visual Composition)\\nLanguages\\n– English\\n* Fluent: Reading / Writing\\n* Intermediate / Advanced: Speaking\\n5'),\n",
       " Document(metadata={'source': 'tenorio_cv.odt'}, page_content='Isaias Tenorio\\n\\nProfesional de la docencia con una sólida trayectoria. Soy capaz de coordinar el plan educativo, gestionar programas alternativos de enseñanza y desarrollar las tareas administrativas vinculadas al cargo. \\n\\nSobre míMe defino por ser una persona con ganas de aprender y un gran líder de equipos multidisciplinares.\\n\\n\\nSobre mí\\nMe defino por ser una persona con ganas de aprender y un gran líder de equipos multidisciplinares.\\n\\nDocente de la Universidad de Buenos Aires (UBA).\\nEn las asignaturas de Matemáticas, Álgebra y Análisis Matemático 1 – Facultad de Ciencias Económicas- 2019 – Actual.\\n\\nAyudante de Cátedra de la Universidad de Buenos Aires (UBA).\\nEn las asignaturas de Matemáticas, Álgebra y Análisis Matemático 1 – Facultad de Ciencias Económicas- 2017- 2018\\n\\n\\n\\nTítulo: Universidad Nacional Pedro Ruiz Gallo\\nLicenciado en Matemáticas\\n\\nPosgrado: Universidad de Buenos Aires\\n\\nEspecialización en inteligencia artificial - FIUBA\\n\\n')]"
      ]
     },
     "execution_count": 8,
     "metadata": {},
     "output_type": "execute_result"
    }
   ],
   "source": [
    "documents"
   ]
  },
  {
   "cell_type": "code",
   "execution_count": 9,
   "metadata": {},
   "outputs": [
    {
     "name": "stdout",
     "output_type": "stream",
     "text": [
      "Documento 1:\n",
      "Contenido (primeros 50 caracteres):\n",
      "\n",
      "Octavio Deshays\n",
      "Mechatronics Engineer - National \n",
      "----------------------------------------\n",
      "Documento 2:\n",
      "Contenido (primeros 50 caracteres):\n",
      "Santiago Francisco BELEN DEAS\n",
      "Personal Information\n",
      "----------------------------------------\n",
      "Documento 3:\n",
      "Contenido (primeros 50 caracteres):\n",
      "Isaias Tenorio\n",
      "\n",
      "Profesional de la docencia con una\n",
      "----------------------------------------\n"
     ]
    }
   ],
   "source": [
    "# Mostramos los primeros 50 caracteres de cada documento de Belén\n",
    "for idx, doc in enumerate(documents):\n",
    "    print(f\"Documento {idx + 1}:\")\n",
    "    print(f\"Contenido (primeros 50 caracteres):\\n{doc.page_content[:50]}\")\n",
    "    print(\"-\" * 40)"
   ]
  },
  {
   "cell_type": "code",
   "execution_count": 10,
   "metadata": {},
   "outputs": [],
   "source": [
    "# Define una función para dividir los documentos en chunks\n",
    "def chunk_data(docs, chunk_size=800, chunk_overlap=50):\n",
    "    text_splitter = RecursiveCharacterTextSplitter(chunk_size=chunk_size, chunk_overlap=chunk_overlap)\n",
    "    doc = text_splitter.split_documents(docs)  \n",
    "    return doc  \n",
    "\n",
    "# Ahora aplicamos la función chunk_data\n",
    "Cv = chunk_data(docs=documents, chunk_size=3000, chunk_overlap=50)"
   ]
  },
  {
   "cell_type": "code",
   "execution_count": 11,
   "metadata": {},
   "outputs": [
    {
     "data": {
      "text/plain": [
       "[Document(metadata={'source': 'octavio_cv.odt'}, page_content=\"Octavio Deshays\\nMechatronics Engineer - National University of Cuyo\\nMendoza, Argentina\\n22/12/1997\\n+54 9 2615538396\\noctaviodeshays@gmail.com\\nln: Octavio Deshays Moreno\\nEXPERIENCE\\nMARVIK, Uruguay — Machine Learning Engineer\\nDecember 2022 - Present\\nMarvik is a hands-on ML consulting firm. In my role, I am involved in the entire process of developing an AI solution, from identifying the customer's problem to implementing the solution.\\nProjects: \\nPhotoStudio Editor: an app to allow sellers from the largest E-Commerce in LatinAmerica to edit their products images using Stable Diffusion, generating attractive backgrounds for each product. Currently in production being used by thousands of users every hour.\\nFashion Recommendation System: designed and built MVP for a Tinder like recsys for a fashion company. Involved building a feature extraction pipeline for garments using CLIP based classifiers and a Reinforcement Learning algorithm.\\nVirtual Try On: for this project, I worked in both image processor and Diffusion pipeline used to generate a Try On\\nConveyor Belt Control: Utilized computer vision to monitor the entry of wooden logs into machinery in a paper mill. Involved the use of a Jetson device, frame processing, and the development of a control algorithm based on outputs from AI models.\\nUsed technologies: \\nMultimodal Neural Networks, CNN, Classification models, Image Segmentation, Image Enhancement, Stable Diffusion, Data Extraction pipelines. \\nRecommendation Systems, Clustering, Reinforcement Learning. \\nPython, Docker, Fast API, AWS: EC2, S3. \\nDEEP AGRO, Argentina — Machine Learning Engineer\\nMarch 2021 - November 2022\\nDeepAgro is an agtech start up with the mission of creating a brighter future for Agriculture by using innovation and Artificial Intelligence. I was in charge of developing, testing, maintaining and deploying production ready computer vision models on edge devices. \\n\\nUsed technologies:\\n- Convolutional Neural Networks, YOLO, Generative Adversarial Networks, Decision Trees, Random Forest, Image classification, Object Tracking.\\n- Pytorch, TensorFlow, Darknet, ScikitLearn, TensorRT , OpenCV, Google Data Studio.\\n- Python, C++, linux.\\nINCA JUNIOR ENTERPRISE, Argentina — Innovation and Development Department Coordinator\\nJanuary 2021 - January 2021\\nINCA JE is a Non-profit organization that seeks to strengthen university education, linking students with small companies.\\nIntroduction to Python Course: design and delivery of introductory course for university students\\nPitching Ideas: design and delivery of a Pitching workshop.\\nNational University of Cuyo, Argentina— Teacher Assistant\\nMarch 2018 - March 2019\\nI assisted students during classes, helping them to solve problems with Analytic Geometry.\"),\n",
       " Document(metadata={'source': 'octavio_cv.odt'}, page_content='EDUCATION\\nUniversity of Buenos Aires, Argentina — Post Graduate Specialization in Artificial Intelligence \\nPost graduate university degree in Artificial Intelligence, covering all topics from classic Machine Learning algorithms to Generative AI. \\nAugust 2023 - March 2025\\nNational University of Cuyo, Argentina — Degree in Mechatronics Engineering\\nMARCH 2016 - MAY 2022\\nUniversity degree in Mechatronics with an average grade of 8.91, which is the best grade of the Mechatronics Class of 2016 and the fourth best among all students in the Engineering School.\\nBest Graduate Mechatronic Engineering class 2022. \\nUniversity Of Alabama, EEUU — Fulbright Scholar\\nAUGUST 2021 - OCTOBER 2021\\nIn December 2020 I was awarded a scholarship called Friends of Fulbright, which is given by the Argentine Fulbright Commission and it is sponsored by the US Embassy. Thanks to this, I spent two months at the University of Alabama, where I was able to take the following courses: \\nComputational Intelligence\\nIntro to Autonomous Robotics\\nIdentifying and Pitching Opportunities\\nAdvanced English Language Classes. \\nPROJECTS\\nTo infinity and Beyond — Digital Twin Development\\nWinning team of the Open Space contest that launched an experiment into space in one of the satellites of the company Satellogic. \\nMy job consisted of the development of Artificial Intelligence Models for Satellite Temperature Prediction and Cloud Segmentation together with a WebbApp that allows users to interact with the Satellite Data. All this work was also part of my Mechatronics Engineering Final Project, which can be seen here. Thanks to my work on this project, I can proudly say that my name is in space!\\nAWARDS\\nMember of the National Flag honor group. Honor I received for having the fourth best Grade rate of the 2016 Engineering School Class. (certification)\\nBest Graduate Mechatronic Engineering class 2022. \\nVolunteering\\nEmpate Foundation. Futbol Coach for young adults with Down Syndrome. \\nLANGUAGES\\nEnglish - C1 level TOEFL iBT 104/120'),\n",
       " Document(metadata={'source': 'santiago_cv.odt'}, page_content='Santiago Francisco BELEN DEAS\\nPersonal Information\\nAddress: Av. Corrientes 16204piso Dto: “B” CP: 1042 Nationality: Argentine and Spanish.\\nCity: Capital Federal, Buenos Aires, Argentina\\nPhone Number: +54 9 11-5715-9118\\nDate of Birth: 26/06/1984\\nNational ID: 32.182.510\\nE-mail: Sbelen@fmed.uba.ar\\nProfessional Profile\\nMedical Specialist in Internal Medicine and Clinical Research Professional with extensive knowledge in multiple therapeutic areas, currently pursuing a Specialization in Artificial Intelligence at the University of Buenos Aires.\\nExperienced Teaching Physician in Clinical Examination and Internal Medicine, with a strong commitment to medical education and clinical supervision. Actively participated as a Sub-Investigator in Phase 2/3 clinical trials, contributing to pivotal studies, includ ing Pfizer’s RSV and Influenza vaccines (C3671013 / C4781004), Moderna’s RSV and Influenza vaccines (mRNA-1345-P301 / mRNA1010-P301), and Medicago’s COVID-19 vaccine (CP-PRO-CoVLP-021).\\nDemonstrated leadership and mentorship in clinical and academic settings, fostering a collaborative learning environment for emerging medical professionals.\\n1\\nEducation\\nCurrent Studies\\n2024 – Present\\nSpecialization in Artificial Intelligence(In Progress)\\nFaculty of Engineering, University of Buenos Aires (UBA), Argentina\\nUniversity\\n2011 – 2015\\nDegree Obtained: Medical Specialist in Internal Medicine\\nFaculty of Medical Sciences, University of Buenos Aires (UBA)\\nOverall GPA: 9/10\\n2003 – 2011\\nDegree Obtained: Medical Doctor\\nFaculty of Medical Sciences, University of Buenos Aires (UBA)\\nOverall GPA: 8.61/10\\nHigh School Education\\n2001\\nDegree Obtained: High School Diploma with specialization in Computer Systems San Roque Institute, Buenos Aires City\\n2\\nProfessional Experience\\nJan 2022 – Nov 2024\\nSub-Investigator for Phase 3 Clinical Trials\\nEquipo Ciencia CRO\\nActively contributed to pivotal Phase 3 clinical trials, including studies for Pfizer’s RSV and Influenza vaccines (C3671013 / C4781004), Moderna’s RSV and Influenza vaccines (mRNA-1345-P301 / mRNA1010-P301), and Medicago’s COVID-19 vaccine (CP-PRO CoVLP-021). Responsibilities included identification of adverse events, protocol adher ence, data management, and maintaining compliance with Good Clinical Practice (GCP) standards.\\n2015 – 2022\\nMedical Specialist in Internal Medicine\\nDelivered specialized care for complex cases in internal medicine, employing evidence based practices to improve patient outcomes. Participated in interdisciplinary collabora tion and provided guidance on patient care in hospital settings.\\n2018 – 2021\\nResearch Fellow in Basic and Clinical Immunology and Immunopathology INIGEM-CONICET\\nContributed to multiple research publications and presented findings at national and international conferences, collaborating with multidisciplinary teams to advance the field.\\n2015 – 2018'),\n",
       " Document(metadata={'source': 'santiago_cv.odt'}, page_content='2015 – 2018\\nTeaching Physician in Clinical Examination and Internal Medicine 5th Chair of Internal Medicine, Hospital de Cl´ınicas Jos´e de San Mart´ın, Buenos Aires, Argentina\\nProvided both theoretical and practical instruction in clinical examination and internal medicine. Mentored medical students and residents, emphasizing diagnostic accuracy, clinical skills, and patient-centered approaches. Supervised clinical rotations and facili tated skill-building in a collaborative learning environment.\\n2011 – 2015\\nResidency in Internal Medicine\\n5th Chair of Internal Medicine, Hospital de Cl´ınicas Jos´e de San Mart´ın, Buenos Aires, Argentina\\nCompleted an intensive residency with rotations in multiple internal medicine subspecial ties, gaining expertise in patient management, emergency care, and complex diagnostics in a high-volume academic hospital.\\n3\\n2002 – 2005\\nAdministrative Assistant\\nUnited Nations Development Programme (UNDP), based at the Secretariat of Industry, Ministry of Economy of Argentina\\nProvided administrative support including documentation, reporting, and inter-departmental communication.\\nCourses\\n2004\\nIntensive Course on Fundamentals of Clinical Genetics\\nFaculty of Medical Sciences, University of Buenos Aires (UBA)\\n2010\\nCourse for Clinical Study Investigators and GCP (Good Clinical Prac tice)\\nFoundation for Pharmacological and Drug Studies “Prof. Luis M. Zieher”\\n2013\\nAdvanced Cardiovascular Life Support (ACLS)\\nArgentine Cardiological Foundation\\n2014\\nAdvanced Trauma Life Support (ATLS)\\nAmerican College of Surgeons\\n2015\\nBasic Theoretical-Practical Course on Flow Cytometry\\nRioplatense Group of Flow Cytometry\\n2019\\nApplied Statistics in Health Sciences\\nFaculty of Pharmacy and Biochemistry, University of Buenos Aires (UBA)\\n2019\\nTraining in Database Management for Biomedical Sciences\\nFaculty of Medical Sciences, National University of Rosario\\n2019\\nResearch Methodology\\nFaculty of Pharmacy and Biochemistry, University of Buenos Aires (UBA)\\n2021\\nClinical Research Associate\\nVIARES, Clinical Research Talent Company, Vienna, Austria\\n2021\\nProject Management in Clinical Research\\nVIARES, Clinical Research Talent Company, Vienna, Austria\\n4\\nConferences\\nSpeaker\\n– Systematic Study and Treatment: Chronic Anemias with Normal MGV (2016) – Pathogenesis of Systemic Lupus Erythematosus(Main Topic, 2018)– Immunosuppressants in Autoimmune Disease: Preventive Measures (2018)\\nCoordinator\\n– Undifferentiated Arthritis: Therapeutic Management (2018)\\nOther Skills\\nComputing\\n– Clinical Data Management: Medidata Rave\\n– Office Suite: Word, Excel, PowerPoint\\n– Interactive Report Generation: Microsoft Power BI\\n– Statistical Software: GraphPad Prism, Minitab\\n– Programming: R Language, Python (Data Analysis and Visualization) – Design: LaTeX (Typesetting), CorelDRAW (Visual Composition)\\nLanguages\\n– English\\n* Fluent: Reading / Writing\\n* Intermediate / Advanced: Speaking\\n5'),\n",
       " Document(metadata={'source': 'tenorio_cv.odt'}, page_content='Isaias Tenorio\\n\\nProfesional de la docencia con una sólida trayectoria. Soy capaz de coordinar el plan educativo, gestionar programas alternativos de enseñanza y desarrollar las tareas administrativas vinculadas al cargo. \\n\\nSobre míMe defino por ser una persona con ganas de aprender y un gran líder de equipos multidisciplinares.\\n\\n\\nSobre mí\\nMe defino por ser una persona con ganas de aprender y un gran líder de equipos multidisciplinares.\\n\\nDocente de la Universidad de Buenos Aires (UBA).\\nEn las asignaturas de Matemáticas, Álgebra y Análisis Matemático 1 – Facultad de Ciencias Económicas- 2019 – Actual.\\n\\nAyudante de Cátedra de la Universidad de Buenos Aires (UBA).\\nEn las asignaturas de Matemáticas, Álgebra y Análisis Matemático 1 – Facultad de Ciencias Económicas- 2017- 2018\\n\\n\\n\\nTítulo: Universidad Nacional Pedro Ruiz Gallo\\nLicenciado en Matemáticas\\n\\nPosgrado: Universidad de Buenos Aires\\n\\nEspecialización en inteligencia artificial - FIUBA')]"
      ]
     },
     "execution_count": 11,
     "metadata": {},
     "output_type": "execute_result"
    }
   ],
   "source": [
    "Cv"
   ]
  },
  {
   "cell_type": "code",
   "execution_count": 12,
   "metadata": {},
   "outputs": [
    {
     "name": "stdout",
     "output_type": "stream",
     "text": [
      "Octavio Deshays\n",
      "Mechatronics Engineer - National University of Cuyo\n",
      "Mendoza, Argentina\n",
      "22/12/1997\n",
      "+5\n",
      "----\n",
      "EDUCATION\n",
      "University of Buenos Aires, Argentina — Post Graduate Specialization in Artificial Intelli\n",
      "----\n",
      "Santiago Francisco BELEN DEAS\n",
      "Personal Information\n",
      "Address: Av. Corrientes 16204piso Dto: “B” CP: 10\n",
      "----\n",
      "2015 – 2018\n",
      "Teaching Physician in Clinical Examination and Internal Medicine 5th Chair of Internal M\n",
      "----\n",
      "Isaias Tenorio\n",
      "\n",
      "Profesional de la docencia con una sólida trayectoria. Soy capaz de coordinar el pla\n",
      "----\n"
     ]
    }
   ],
   "source": [
    "# Revisamos que ahora Cv contenga los chunks correctamente\n",
    "for chunk in Cv[:5]:\n",
    "    print(chunk.page_content[:100])\n",
    "    print(\"----\")"
   ]
  },
  {
   "cell_type": "markdown",
   "metadata": {},
   "source": [
    "---\n"
   ]
  },
  {
   "cell_type": "code",
   "execution_count": 13,
   "metadata": {},
   "outputs": [
    {
     "name": "stdout",
     "output_type": "stream",
     "text": [
      "index llm-tp1 borrado\n",
      "index creado con el nombre: llm-tp1\n"
     ]
    }
   ],
   "source": [
    "#PINECONE\n",
    "\n",
    "# Conecta a la base de datos Pinecone\n",
    "pc = Pinecone(api_key=PINECONE_API_KEY)  \n",
    "cloud = os.environ.get('PINECONE_CLOUD') or 'aws' \n",
    "region = os.environ.get('PINECONE_REGION') or 'us-east-1'  \n",
    "spec = ServerlessSpec(cloud=cloud, region=region)\n",
    "index_name = 'llm-tp1' \n",
    "\n",
    "# Elimina el índice si ya existe en Pinecone\n",
    "if index_name in pc.list_indexes().names():\n",
    "    pc.delete_index(index_name)  \n",
    "    print(\"index {} borrado\".format(index_name)) \n",
    "\n",
    "# Verifica si el índice no existe y lo crea\n",
    "if index_name not in pc.list_indexes().names():\n",
    "    print(\"index creado con el nombre: {}\".format(index_name)) \n",
    "    pc.create_index(\n",
    "        index_name,\n",
    "        dimension=3072,  \n",
    "        metric='cosine', \n",
    "        spec=spec \n",
    "    )\n",
    "else:\n",
    "    print(\"el index con el nombre {} ya estaba creado\".format(index_name)) \n"
   ]
  },
  {
   "cell_type": "markdown",
   "metadata": {},
   "source": [
    "---"
   ]
  },
  {
   "cell_type": "code",
   "execution_count": 14,
   "metadata": {},
   "outputs": [
    {
     "name": "stdout",
     "output_type": "stream",
     "text": [
      "upserted values to llm-tp1 index under namespace Curriculums\n"
     ]
    }
   ],
   "source": [
    "## INSERCIÓN DE LOS VECTORES EN LA BASE DE DATOS DE PINECONE\n",
    "\n",
    "# Define el espacio de nombres\n",
    "namespace = \"Curriculums\"\n",
    "\n",
    "# Inserta los documentos en la base de datos Pinecone\n",
    "docsearch = PineconeVectorStore.from_documents(\n",
    "    documents=Cv,  \n",
    "    index_name=index_name,  \n",
    "    embedding=embed_model, \n",
    "    namespace=namespace\n",
    ")\n",
    "\n",
    "print(\"upserted values to {} index under namespace {}\".format(index_name, namespace)) \n",
    "time.sleep(1)  "
   ]
  },
  {
   "cell_type": "markdown",
   "metadata": {},
   "source": [
    "---\n"
   ]
  },
  {
   "cell_type": "code",
   "execution_count": 15,
   "metadata": {},
   "outputs": [],
   "source": [
    "# Inicializa el vectorstore para los documentos\n",
    "vectorstore = PineconeVectorStore(\n",
    "    index_name=index_name,  # Nombre del índice\n",
    "    embedding=embed_model,  # Modelo de embeddings a usar\n",
    "    namespace=namespace  # Espacio de nombres definido para tesis\n",
    ")"
   ]
  },
  {
   "cell_type": "markdown",
   "metadata": {},
   "source": [
    "---\n"
   ]
  },
  {
   "cell_type": "code",
   "execution_count": 18,
   "metadata": {},
   "outputs": [
    {
     "data": {
      "text/plain": [
       "[Document(id='1e0716b6-4a8c-4934-8059-c9a701de8c89', metadata={'source': 'santiago_cv.odt'}, page_content='Santiago Francisco BELEN DEAS\\nPersonal Information\\nAddress: Av. Corrientes 16204piso Dto: “B” CP: 1042 Nationality: Argentine and Spanish.\\nCity: Capital Federal, Buenos Aires, Argentina\\nPhone Number: +54 9 11-5715-9118\\nDate of Birth: 26/06/1984\\nNational ID: 32.182.510\\nE-mail: Sbelen@fmed.uba.ar\\nProfessional Profile\\nMedical Specialist in Internal Medicine and Clinical Research Professional with extensive knowledge in multiple therapeutic areas, currently pursuing a Specialization in Artificial Intelligence at the University of Buenos Aires.\\nExperienced Teaching Physician in Clinical Examination and Internal Medicine, with a strong commitment to medical education and clinical supervision. Actively participated as a Sub-Investigator in Phase 2/3 clinical trials, contributing to pivotal studies, includ ing Pfizer’s RSV and Influenza vaccines (C3671013 / C4781004), Moderna’s RSV and Influenza vaccines (mRNA-1345-P301 / mRNA1010-P301), and Medicago’s COVID-19 vaccine (CP-PRO-CoVLP-021).\\nDemonstrated leadership and mentorship in clinical and academic settings, fostering a collaborative learning environment for emerging medical professionals.\\n1\\nEducation\\nCurrent Studies\\n2024 – Present\\nSpecialization in Artificial Intelligence(In Progress)\\nFaculty of Engineering, University of Buenos Aires (UBA), Argentina\\nUniversity\\n2011 – 2015\\nDegree Obtained: Medical Specialist in Internal Medicine\\nFaculty of Medical Sciences, University of Buenos Aires (UBA)\\nOverall GPA: 9/10\\n2003 – 2011\\nDegree Obtained: Medical Doctor\\nFaculty of Medical Sciences, University of Buenos Aires (UBA)\\nOverall GPA: 8.61/10\\nHigh School Education\\n2001\\nDegree Obtained: High School Diploma with specialization in Computer Systems San Roque Institute, Buenos Aires City\\n2\\nProfessional Experience\\nJan 2022 – Nov 2024\\nSub-Investigator for Phase 3 Clinical Trials\\nEquipo Ciencia CRO\\nActively contributed to pivotal Phase 3 clinical trials, including studies for Pfizer’s RSV and Influenza vaccines (C3671013 / C4781004), Moderna’s RSV and Influenza vaccines (mRNA-1345-P301 / mRNA1010-P301), and Medicago’s COVID-19 vaccine (CP-PRO CoVLP-021). Responsibilities included identification of adverse events, protocol adher ence, data management, and maintaining compliance with Good Clinical Practice (GCP) standards.\\n2015 – 2022\\nMedical Specialist in Internal Medicine\\nDelivered specialized care for complex cases in internal medicine, employing evidence based practices to improve patient outcomes. Participated in interdisciplinary collabora tion and provided guidance on patient care in hospital settings.\\n2018 – 2021\\nResearch Fellow in Basic and Clinical Immunology and Immunopathology INIGEM-CONICET\\nContributed to multiple research publications and presented findings at national and international conferences, collaborating with multidisciplinary teams to advance the field.\\n2015 – 2018')]"
      ]
     },
     "execution_count": 18,
     "metadata": {},
     "output_type": "execute_result"
    }
   ],
   "source": [
    "# Realiza una búsqueda de similitud en el vectorstore de tesis\n",
    "query = \"in which companies did santiago used to work\"  # Define la consulta para realizar la búsqueda\n",
    "documents_result = vectorstore.similarity_search(query, k=1)  # Realiza la búsqueda de los documentos más similares con k=2\n",
    "\n",
    "documents_result\n"
   ]
  },
  {
   "cell_type": "markdown",
   "metadata": {},
   "source": [
    "---"
   ]
  },
  {
   "cell_type": "code",
   "execution_count": 20,
   "metadata": {},
   "outputs": [
    {
     "name": "stdout",
     "output_type": "stream",
     "text": [
      "Resultado de la consulta:\n",
      "The coordinator of the Undifferentiated Arthritis: Therapeutic Management conference was the user.\n",
      "{'query': 'who was the coordinator of a Undifferentiated Arthritis: Therapeutic Management conference?', 'result': 'The coordinator of the Undifferentiated Arthritis: Therapeutic Management conference was the user.'}\n"
     ]
    }
   ],
   "source": [
    "# Realiza una consulta para obtener información\n",
    "#document_query = \"does Santiago have any haircut experience\"  \n",
    "document_query = \"who was the coordinator of a Undifferentiated Arthritis: Therapeutic Management conference?\"\n",
    "\n",
    "retriever = vectorstore.as_retriever(search_type=\"similarity\", search_kwargs={\"k\": 1})\n",
    "\n",
    "\n",
    "# Inicializa la cadena de recuperación y respuesta para los documentos\n",
    "qa = RetrievalQA.from_chain_type(  \n",
    "    llm=chat, \n",
    "    chain_type=\"stuff\", \n",
    "    retriever=retriever \n",
    ")  \n",
    "\n",
    "# Realiza la consulta en los documentos\n",
    "result = qa.invoke(document_query)\n",
    "\n",
    "# Imprime el resultado de la consulta\n",
    "print(\"Resultado de la consulta:\")\n",
    "print(result['result']) \n",
    "print(result) \n"
   ]
  }
 ],
 "metadata": {
  "kernelspec": {
   "display_name": "Vision1",
   "language": "python",
   "name": "python3"
  },
  "language_info": {
   "codemirror_mode": {
    "name": "ipython",
    "version": 3
   },
   "file_extension": ".py",
   "mimetype": "text/x-python",
   "name": "python",
   "nbconvert_exporter": "python",
   "pygments_lexer": "ipython3",
   "version": "3.12.7"
  }
 },
 "nbformat": 4,
 "nbformat_minor": 2
}
