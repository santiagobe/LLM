{
 "cells": [
  {
   "cell_type": "code",
   "execution_count": 1,
   "metadata": {},
   "outputs": [],
   "source": [
    "# Utilidades del sistema\n",
    "import os\n",
    "import time\n",
    "\n",
    "# Bibliotecas externas\n",
    "from tqdm.auto import tqdm\n",
    "\n",
    "# Procesamiento de documentos\n",
    "from odf.opendocument import load\n",
    "from odf.text import P\n",
    "\n",
    "# LangChain y módulos relacionados\n",
    "import langchain_community\n",
    "from langchain_openai import ChatOpenAI, OpenAIEmbeddings\n",
    "from langchain_huggingface import HuggingFaceEmbeddings\n",
    "from langchain.text_splitter import RecursiveCharacterTextSplitter\n",
    "from langchain.schema import Document\n",
    "from langchain.chains import RetrievalQA\n",
    "\n",
    "# Pinecone y módulos relacionados\n",
    "from pinecone import Pinecone, ServerlessSpec\n",
    "from langchain_pinecone import PineconeVectorStore\n",
    "\n",
    "\n",
    "# Obtiene las claves API necesarias desde las variables de entorno\n",
    "OPENAI_API_KEY = os.getenv(\"OPENAI_API_KEY\") \n",
    "LANGCHAIN_TRACING_V2 = os.getenv(\"LANGCHAIN_TRACING_V2\") \n",
    "LANGCHAIN_API_KEY = os.getenv(\"LANGCHAIN_API_KEY\")\n",
    "LANGCHAIN_PROJECT=\"pr-plaintive-radar-87\"\n",
    "PINECONE_API_KEY = os.getenv(\"PINECONE_API_KEY\")  # Obtiene la clave API de Pinecone desde las variables de entorno\n",
    "\n",
    "assert OPENAI_API_KEY is not None, \"OPENAI_API_KEY is not set\"\n",
    "assert LANGCHAIN_TRACING_V2 is not None, \"LANGCHAIN_TRACING_V2 is not set\"\n",
    "assert LANGCHAIN_API_KEY is not None, \"LANGCHAIN_API_KEY is not set\"\n",
    "\n",
    "# Inicializa el modelo de chat de OpenAI con configuración personalizada\n",
    "chat = ChatOpenAI(\n",
    "    openai_api_key=OPENAI_API_KEY,  # Utiliza la clave API para autenticar la conexión con OpenAI\n",
    "    model='gpt-3.5-turbo',  # Especifica el modelo de lenguaje a usar\n",
    "    temperature=0,  # Control de creatividad (0 hace que el output sea más determinista)\n",
    "    streaming=True  # Permite la transmisión de resultados conforme se generan\n",
    ")"
   ]
  },
  {
   "cell_type": "code",
   "execution_count": 2,
   "metadata": {},
   "outputs": [
    {
     "name": "stdout",
     "output_type": "stream",
     "text": [
      "3072\n"
     ]
    }
   ],
   "source": [
    "### EMBEDDINGS\n",
    "# Inicializa un modelo de embeddings de OpenAI con una versión específica\n",
    "embed_model = OpenAIEmbeddings(model=\"text-embedding-3-large\")  # Crea un modelo de embeddings utilizando la versión \"text-embedding-3-large\"\n",
    "\n",
    "# Imprime la longitud del vector generado por una consulta\n",
    "print(len(embed_model.embed_query('hola')))  # Genera el embedding de la palabra 'hola' y muestra la longitud del vector\n"
   ]
  },
  {
   "cell_type": "code",
   "execution_count": 3,
   "metadata": {},
   "outputs": [],
   "source": [
    "# Ruta de la carpeta donde se encuentran los documentos .odt\n",
    "carpeta_Belen = \"docs_odt/Belen\"\n",
    "carpeta_Deshays = \"docs_odt/Deshays\"  "
   ]
  },
  {
   "cell_type": "code",
   "execution_count": 4,
   "metadata": {},
   "outputs": [],
   "source": [
    "# Función para leer todos los documentos .odt en una carpeta\n",
    "def leer_documentos_odt(carpeta):\n",
    "    documentos = {}\n",
    "    for archivo in os.listdir(carpeta):\n",
    "        if archivo.endswith(\".odt\"):  # Verifica que el archivo sea .odt\n",
    "            ruta_archivo = os.path.join(carpeta, archivo)\n",
    "            # Cargar el archivo .odt\n",
    "            documento = load(ruta_archivo)\n",
    "            contenido = []\n",
    "            # Extraer el texto de los párrafos\n",
    "            for elemento in documento.getElementsByType(P):\n",
    "                contenido.append(str(elemento))\n",
    "            documentos[archivo] = \"\\n\".join(contenido)\n",
    "    return documentos"
   ]
  },
  {
   "cell_type": "code",
   "execution_count": 5,
   "metadata": {},
   "outputs": [],
   "source": [
    "# Leemos los documentos en un diccionario {nombre_archivo: contenido}\n",
    "docs_belen_dict = leer_documentos_odt(carpeta_Belen)\n",
    "docs_deshays_dict = leer_documentos_odt(carpeta_Deshays)"
   ]
  },
  {
   "cell_type": "code",
   "execution_count": 6,
   "metadata": {},
   "outputs": [
    {
     "data": {
      "text/plain": [
       "{'santiago_cv.odt': 'Santiago Francisco BELEN DEAS\\nPersonal Information\\nAddress: Av. Corrientes 16204piso Dto: “B” CP: 1042 Nationality: Argentine and Spanish.\\nCity: Capital Federal, Buenos Aires, Argentina\\nPhone Number: +54 9 11-5715-9118\\nDate of Birth: 26/06/1984\\nNational ID: 32.182.510\\nE-mail: Sbelen@fmed.uba.ar\\nProfessional Profile\\nMedical Specialist in Internal Medicine and Clinical Research Professional with extensive knowledge in multiple therapeutic areas, currently pursuing a Specialization in Artificial Intelligence at the University of Buenos Aires.\\nExperienced Teaching Physician in Clinical Examination and Internal Medicine, with a strong commitment to medical education and clinical supervision. Actively participated as a Sub-Investigator in Phase 2/3 clinical trials, contributing to pivotal studies, includ ing Pfizer’s RSV and Influenza vaccines (C3671013 / C4781004), Moderna’s RSV and Influenza vaccines (mRNA-1345-P301 / mRNA1010-P301), and Medicago’s COVID-19 vaccine (CP-PRO-CoVLP-021).\\nDemonstrated leadership and mentorship in clinical and academic settings, fostering a collaborative learning environment for emerging medical professionals.\\n1\\nEducation\\nCurrent Studies\\n2024 – Present\\nSpecialization in Artificial Intelligence(In Progress)\\nFaculty of Engineering, University of Buenos Aires (UBA), Argentina\\nUniversity\\n2011 – 2015\\nDegree Obtained: Medical Specialist in Internal Medicine\\nFaculty of Medical Sciences, University of Buenos Aires (UBA)\\nOverall GPA: 9/10\\n2003 – 2011\\nDegree Obtained: Medical Doctor\\nFaculty of Medical Sciences, University of Buenos Aires (UBA)\\nOverall GPA: 8.61/10\\nHigh School Education\\n2001\\nDegree Obtained: High School Diploma with specialization in Computer Systems San Roque Institute, Buenos Aires City\\n2\\nProfessional Experience\\nJan 2022 – Nov 2024\\nSub-Investigator for Phase 3 Clinical Trials\\nEquipo Ciencia CRO\\nActively contributed to pivotal Phase 3 clinical trials, including studies for Pfizer’s RSV and Influenza vaccines (C3671013 / C4781004), Moderna’s RSV and Influenza vaccines (mRNA-1345-P301 / mRNA1010-P301), and Medicago’s COVID-19 vaccine (CP-PRO CoVLP-021). Responsibilities included identification of adverse events, protocol adher ence, data management, and maintaining compliance with Good Clinical Practice (GCP) standards.\\n2015 – 2022\\nMedical Specialist in Internal Medicine\\nDelivered specialized care for complex cases in internal medicine, employing evidence based practices to improve patient outcomes. Participated in interdisciplinary collabora tion and provided guidance on patient care in hospital settings.\\n2018 – 2021\\nResearch Fellow in Basic and Clinical Immunology and Immunopathology INIGEM-CONICET\\nContributed to multiple research publications and presented findings at national and international conferences, collaborating with multidisciplinary teams to advance the field.\\n2015 – 2018\\nTeaching Physician in Clinical Examination and Internal Medicine 5th Chair of Internal Medicine, Hospital de Cl´ınicas Jos´e de San Mart´ın, Buenos Aires, Argentina\\nProvided both theoretical and practical instruction in clinical examination and internal medicine. Mentored medical students and residents, emphasizing diagnostic accuracy, clinical skills, and patient-centered approaches. Supervised clinical rotations and facili tated skill-building in a collaborative learning environment.\\n2011 – 2015\\nResidency in Internal Medicine\\n5th Chair of Internal Medicine, Hospital de Cl´ınicas Jos´e de San Mart´ın, Buenos Aires, Argentina\\nCompleted an intensive residency with rotations in multiple internal medicine subspecial ties, gaining expertise in patient management, emergency care, and complex diagnostics in a high-volume academic hospital.\\n3\\n2002 – 2005\\nAdministrative Assistant\\nUnited Nations Development Programme (UNDP), based at the Secretariat of Industry, Ministry of Economy of Argentina\\nProvided administrative support including documentation, reporting, and inter-departmental communication.\\nCourses\\n2004\\nIntensive Course on Fundamentals of Clinical Genetics\\nFaculty of Medical Sciences, University of Buenos Aires (UBA)\\n2010\\nCourse for Clinical Study Investigators and GCP (Good Clinical Prac tice)\\nFoundation for Pharmacological and Drug Studies “Prof. Luis M. Zieher”\\n2013\\nAdvanced Cardiovascular Life Support (ACLS)\\nArgentine Cardiological Foundation\\n2014\\nAdvanced Trauma Life Support (ATLS)\\nAmerican College of Surgeons\\n2015\\nBasic Theoretical-Practical Course on Flow Cytometry\\nRioplatense Group of Flow Cytometry\\n2019\\nApplied Statistics in Health Sciences\\nFaculty of Pharmacy and Biochemistry, University of Buenos Aires (UBA)\\n2019\\nTraining in Database Management for Biomedical Sciences\\nFaculty of Medical Sciences, National University of Rosario\\n2019\\nResearch Methodology\\nFaculty of Pharmacy and Biochemistry, University of Buenos Aires (UBA)\\n2021\\nClinical Research Associate\\nVIARES, Clinical Research Talent Company, Vienna, Austria\\n2021\\nProject Management in Clinical Research\\nVIARES, Clinical Research Talent Company, Vienna, Austria\\n4\\nConferences\\nSpeaker\\n– Systematic Study and Treatment: Chronic Anemias with Normal MGV (2016) – Pathogenesis of Systemic Lupus Erythematosus(Main Topic, 2018)– Immunosuppressants in Autoimmune Disease: Preventive Measures (2018)\\nCoordinator\\n– Undifferentiated Arthritis: Therapeutic Management (2018)\\nOther Skills\\nComputing\\n– Clinical Data Management: Medidata Rave\\n– Office Suite: Word, Excel, PowerPoint\\n– Interactive Report Generation: Microsoft Power BI\\n– Statistical Software: GraphPad Prism, Minitab\\n– Programming: R Language, Python (Data Analysis and Visualization) – Design: LaTeX (Typesetting), CorelDRAW (Visual Composition)\\nLanguages\\n– English\\n* Fluent: Reading / Writing\\n* Intermediate / Advanced: Speaking\\n5'}"
      ]
     },
     "execution_count": 6,
     "metadata": {},
     "output_type": "execute_result"
    }
   ],
   "source": [
    "docs_belen_dict"
   ]
  },
  {
   "cell_type": "code",
   "execution_count": 7,
   "metadata": {},
   "outputs": [],
   "source": [
    "# Ahora creamos la lista de Documents con su contenido real\n",
    "documents_Belen = [Document(page_content=contenido, metadata={\"source\": nombre_archivo}) \n",
    "                   for nombre_archivo, contenido in docs_belen_dict.items()]\n",
    "\n",
    "documents_Deshays = [Document(page_content=contenido, metadata={\"source\": nombre_archivo}) \n",
    "                     for nombre_archivo, contenido in docs_deshays_dict.items()]"
   ]
  },
  {
   "cell_type": "code",
   "execution_count": 8,
   "metadata": {},
   "outputs": [
    {
     "data": {
      "text/plain": [
       "[Document(metadata={'source': 'santiago_cv.odt'}, page_content='Santiago Francisco BELEN DEAS\\nPersonal Information\\nAddress: Av. Corrientes 16204piso Dto: “B” CP: 1042 Nationality: Argentine and Spanish.\\nCity: Capital Federal, Buenos Aires, Argentina\\nPhone Number: +54 9 11-5715-9118\\nDate of Birth: 26/06/1984\\nNational ID: 32.182.510\\nE-mail: Sbelen@fmed.uba.ar\\nProfessional Profile\\nMedical Specialist in Internal Medicine and Clinical Research Professional with extensive knowledge in multiple therapeutic areas, currently pursuing a Specialization in Artificial Intelligence at the University of Buenos Aires.\\nExperienced Teaching Physician in Clinical Examination and Internal Medicine, with a strong commitment to medical education and clinical supervision. Actively participated as a Sub-Investigator in Phase 2/3 clinical trials, contributing to pivotal studies, includ ing Pfizer’s RSV and Influenza vaccines (C3671013 / C4781004), Moderna’s RSV and Influenza vaccines (mRNA-1345-P301 / mRNA1010-P301), and Medicago’s COVID-19 vaccine (CP-PRO-CoVLP-021).\\nDemonstrated leadership and mentorship in clinical and academic settings, fostering a collaborative learning environment for emerging medical professionals.\\n1\\nEducation\\nCurrent Studies\\n2024 – Present\\nSpecialization in Artificial Intelligence(In Progress)\\nFaculty of Engineering, University of Buenos Aires (UBA), Argentina\\nUniversity\\n2011 – 2015\\nDegree Obtained: Medical Specialist in Internal Medicine\\nFaculty of Medical Sciences, University of Buenos Aires (UBA)\\nOverall GPA: 9/10\\n2003 – 2011\\nDegree Obtained: Medical Doctor\\nFaculty of Medical Sciences, University of Buenos Aires (UBA)\\nOverall GPA: 8.61/10\\nHigh School Education\\n2001\\nDegree Obtained: High School Diploma with specialization in Computer Systems San Roque Institute, Buenos Aires City\\n2\\nProfessional Experience\\nJan 2022 – Nov 2024\\nSub-Investigator for Phase 3 Clinical Trials\\nEquipo Ciencia CRO\\nActively contributed to pivotal Phase 3 clinical trials, including studies for Pfizer’s RSV and Influenza vaccines (C3671013 / C4781004), Moderna’s RSV and Influenza vaccines (mRNA-1345-P301 / mRNA1010-P301), and Medicago’s COVID-19 vaccine (CP-PRO CoVLP-021). Responsibilities included identification of adverse events, protocol adher ence, data management, and maintaining compliance with Good Clinical Practice (GCP) standards.\\n2015 – 2022\\nMedical Specialist in Internal Medicine\\nDelivered specialized care for complex cases in internal medicine, employing evidence based practices to improve patient outcomes. Participated in interdisciplinary collabora tion and provided guidance on patient care in hospital settings.\\n2018 – 2021\\nResearch Fellow in Basic and Clinical Immunology and Immunopathology INIGEM-CONICET\\nContributed to multiple research publications and presented findings at national and international conferences, collaborating with multidisciplinary teams to advance the field.\\n2015 – 2018\\nTeaching Physician in Clinical Examination and Internal Medicine 5th Chair of Internal Medicine, Hospital de Cl´ınicas Jos´e de San Mart´ın, Buenos Aires, Argentina\\nProvided both theoretical and practical instruction in clinical examination and internal medicine. Mentored medical students and residents, emphasizing diagnostic accuracy, clinical skills, and patient-centered approaches. Supervised clinical rotations and facili tated skill-building in a collaborative learning environment.\\n2011 – 2015\\nResidency in Internal Medicine\\n5th Chair of Internal Medicine, Hospital de Cl´ınicas Jos´e de San Mart´ın, Buenos Aires, Argentina\\nCompleted an intensive residency with rotations in multiple internal medicine subspecial ties, gaining expertise in patient management, emergency care, and complex diagnostics in a high-volume academic hospital.\\n3\\n2002 – 2005\\nAdministrative Assistant\\nUnited Nations Development Programme (UNDP), based at the Secretariat of Industry, Ministry of Economy of Argentina\\nProvided administrative support including documentation, reporting, and inter-departmental communication.\\nCourses\\n2004\\nIntensive Course on Fundamentals of Clinical Genetics\\nFaculty of Medical Sciences, University of Buenos Aires (UBA)\\n2010\\nCourse for Clinical Study Investigators and GCP (Good Clinical Prac tice)\\nFoundation for Pharmacological and Drug Studies “Prof. Luis M. Zieher”\\n2013\\nAdvanced Cardiovascular Life Support (ACLS)\\nArgentine Cardiological Foundation\\n2014\\nAdvanced Trauma Life Support (ATLS)\\nAmerican College of Surgeons\\n2015\\nBasic Theoretical-Practical Course on Flow Cytometry\\nRioplatense Group of Flow Cytometry\\n2019\\nApplied Statistics in Health Sciences\\nFaculty of Pharmacy and Biochemistry, University of Buenos Aires (UBA)\\n2019\\nTraining in Database Management for Biomedical Sciences\\nFaculty of Medical Sciences, National University of Rosario\\n2019\\nResearch Methodology\\nFaculty of Pharmacy and Biochemistry, University of Buenos Aires (UBA)\\n2021\\nClinical Research Associate\\nVIARES, Clinical Research Talent Company, Vienna, Austria\\n2021\\nProject Management in Clinical Research\\nVIARES, Clinical Research Talent Company, Vienna, Austria\\n4\\nConferences\\nSpeaker\\n– Systematic Study and Treatment: Chronic Anemias with Normal MGV (2016) – Pathogenesis of Systemic Lupus Erythematosus(Main Topic, 2018)– Immunosuppressants in Autoimmune Disease: Preventive Measures (2018)\\nCoordinator\\n– Undifferentiated Arthritis: Therapeutic Management (2018)\\nOther Skills\\nComputing\\n– Clinical Data Management: Medidata Rave\\n– Office Suite: Word, Excel, PowerPoint\\n– Interactive Report Generation: Microsoft Power BI\\n– Statistical Software: GraphPad Prism, Minitab\\n– Programming: R Language, Python (Data Analysis and Visualization) – Design: LaTeX (Typesetting), CorelDRAW (Visual Composition)\\nLanguages\\n– English\\n* Fluent: Reading / Writing\\n* Intermediate / Advanced: Speaking\\n5')]"
      ]
     },
     "execution_count": 8,
     "metadata": {},
     "output_type": "execute_result"
    }
   ],
   "source": [
    "documents_Belen"
   ]
  },
  {
   "cell_type": "code",
   "execution_count": 9,
   "metadata": {},
   "outputs": [
    {
     "name": "stdout",
     "output_type": "stream",
     "text": [
      "Documento 1:\n",
      "Contenido (primeros 50 caracteres):\n",
      "Santiago Francisco BELEN DEAS\n",
      "Personal Information\n",
      "----------------------------------------\n"
     ]
    }
   ],
   "source": [
    "# Mostramos los primeros 50 caracteres de cada documento de Belén\n",
    "for idx, doc in enumerate(documents_Belen):\n",
    "    print(f\"Documento {idx + 1}:\")\n",
    "    print(f\"Contenido (primeros 50 caracteres):\\n{doc.page_content[:50]}\")\n",
    "    print(\"-\" * 40)"
   ]
  },
  {
   "cell_type": "code",
   "execution_count": 10,
   "metadata": {},
   "outputs": [],
   "source": [
    "# Define una función para dividir los documentos en partes más pequeñas (chunks)\n",
    "def chunk_data(docs, chunk_size=800, chunk_overlap=50):\n",
    "    text_splitter = RecursiveCharacterTextSplitter(chunk_size=chunk_size, chunk_overlap=chunk_overlap)  # Inicializa el divisor de texto con el tamaño de chunk y solapamiento especificados\n",
    "    doc = text_splitter.split_documents(docs)  # Divide los documentos en partes más pequeñas\n",
    "    return doc  # Retorna los documentos divididos\n",
    "\n",
    "# Ahora aplicamos la función chunk_data\n",
    "Cv_Belen = chunk_data(docs=documents_Belen, chunk_size=3000, chunk_overlap=50)\n",
    "Cv_Deshays = chunk_data(docs=documents_Deshays, chunk_size=3000, chunk_overlap=50)"
   ]
  },
  {
   "cell_type": "code",
   "execution_count": 11,
   "metadata": {},
   "outputs": [
    {
     "data": {
      "text/plain": [
       "[Document(metadata={'source': 'santiago_cv.odt'}, page_content='Santiago Francisco BELEN DEAS\\nPersonal Information\\nAddress: Av. Corrientes 16204piso Dto: “B” CP: 1042 Nationality: Argentine and Spanish.\\nCity: Capital Federal, Buenos Aires, Argentina\\nPhone Number: +54 9 11-5715-9118\\nDate of Birth: 26/06/1984\\nNational ID: 32.182.510\\nE-mail: Sbelen@fmed.uba.ar\\nProfessional Profile\\nMedical Specialist in Internal Medicine and Clinical Research Professional with extensive knowledge in multiple therapeutic areas, currently pursuing a Specialization in Artificial Intelligence at the University of Buenos Aires.\\nExperienced Teaching Physician in Clinical Examination and Internal Medicine, with a strong commitment to medical education and clinical supervision. Actively participated as a Sub-Investigator in Phase 2/3 clinical trials, contributing to pivotal studies, includ ing Pfizer’s RSV and Influenza vaccines (C3671013 / C4781004), Moderna’s RSV and Influenza vaccines (mRNA-1345-P301 / mRNA1010-P301), and Medicago’s COVID-19 vaccine (CP-PRO-CoVLP-021).\\nDemonstrated leadership and mentorship in clinical and academic settings, fostering a collaborative learning environment for emerging medical professionals.\\n1\\nEducation\\nCurrent Studies\\n2024 – Present\\nSpecialization in Artificial Intelligence(In Progress)\\nFaculty of Engineering, University of Buenos Aires (UBA), Argentina\\nUniversity\\n2011 – 2015\\nDegree Obtained: Medical Specialist in Internal Medicine\\nFaculty of Medical Sciences, University of Buenos Aires (UBA)\\nOverall GPA: 9/10\\n2003 – 2011\\nDegree Obtained: Medical Doctor\\nFaculty of Medical Sciences, University of Buenos Aires (UBA)\\nOverall GPA: 8.61/10\\nHigh School Education\\n2001\\nDegree Obtained: High School Diploma with specialization in Computer Systems San Roque Institute, Buenos Aires City\\n2\\nProfessional Experience\\nJan 2022 – Nov 2024\\nSub-Investigator for Phase 3 Clinical Trials\\nEquipo Ciencia CRO\\nActively contributed to pivotal Phase 3 clinical trials, including studies for Pfizer’s RSV and Influenza vaccines (C3671013 / C4781004), Moderna’s RSV and Influenza vaccines (mRNA-1345-P301 / mRNA1010-P301), and Medicago’s COVID-19 vaccine (CP-PRO CoVLP-021). Responsibilities included identification of adverse events, protocol adher ence, data management, and maintaining compliance with Good Clinical Practice (GCP) standards.\\n2015 – 2022\\nMedical Specialist in Internal Medicine\\nDelivered specialized care for complex cases in internal medicine, employing evidence based practices to improve patient outcomes. Participated in interdisciplinary collabora tion and provided guidance on patient care in hospital settings.\\n2018 – 2021\\nResearch Fellow in Basic and Clinical Immunology and Immunopathology INIGEM-CONICET\\nContributed to multiple research publications and presented findings at national and international conferences, collaborating with multidisciplinary teams to advance the field.\\n2015 – 2018'),\n",
       " Document(metadata={'source': 'santiago_cv.odt'}, page_content='2015 – 2018\\nTeaching Physician in Clinical Examination and Internal Medicine 5th Chair of Internal Medicine, Hospital de Cl´ınicas Jos´e de San Mart´ın, Buenos Aires, Argentina\\nProvided both theoretical and practical instruction in clinical examination and internal medicine. Mentored medical students and residents, emphasizing diagnostic accuracy, clinical skills, and patient-centered approaches. Supervised clinical rotations and facili tated skill-building in a collaborative learning environment.\\n2011 – 2015\\nResidency in Internal Medicine\\n5th Chair of Internal Medicine, Hospital de Cl´ınicas Jos´e de San Mart´ın, Buenos Aires, Argentina\\nCompleted an intensive residency with rotations in multiple internal medicine subspecial ties, gaining expertise in patient management, emergency care, and complex diagnostics in a high-volume academic hospital.\\n3\\n2002 – 2005\\nAdministrative Assistant\\nUnited Nations Development Programme (UNDP), based at the Secretariat of Industry, Ministry of Economy of Argentina\\nProvided administrative support including documentation, reporting, and inter-departmental communication.\\nCourses\\n2004\\nIntensive Course on Fundamentals of Clinical Genetics\\nFaculty of Medical Sciences, University of Buenos Aires (UBA)\\n2010\\nCourse for Clinical Study Investigators and GCP (Good Clinical Prac tice)\\nFoundation for Pharmacological and Drug Studies “Prof. Luis M. Zieher”\\n2013\\nAdvanced Cardiovascular Life Support (ACLS)\\nArgentine Cardiological Foundation\\n2014\\nAdvanced Trauma Life Support (ATLS)\\nAmerican College of Surgeons\\n2015\\nBasic Theoretical-Practical Course on Flow Cytometry\\nRioplatense Group of Flow Cytometry\\n2019\\nApplied Statistics in Health Sciences\\nFaculty of Pharmacy and Biochemistry, University of Buenos Aires (UBA)\\n2019\\nTraining in Database Management for Biomedical Sciences\\nFaculty of Medical Sciences, National University of Rosario\\n2019\\nResearch Methodology\\nFaculty of Pharmacy and Biochemistry, University of Buenos Aires (UBA)\\n2021\\nClinical Research Associate\\nVIARES, Clinical Research Talent Company, Vienna, Austria\\n2021\\nProject Management in Clinical Research\\nVIARES, Clinical Research Talent Company, Vienna, Austria\\n4\\nConferences\\nSpeaker\\n– Systematic Study and Treatment: Chronic Anemias with Normal MGV (2016) – Pathogenesis of Systemic Lupus Erythematosus(Main Topic, 2018)– Immunosuppressants in Autoimmune Disease: Preventive Measures (2018)\\nCoordinator\\n– Undifferentiated Arthritis: Therapeutic Management (2018)\\nOther Skills\\nComputing\\n– Clinical Data Management: Medidata Rave\\n– Office Suite: Word, Excel, PowerPoint\\n– Interactive Report Generation: Microsoft Power BI\\n– Statistical Software: GraphPad Prism, Minitab\\n– Programming: R Language, Python (Data Analysis and Visualization) – Design: LaTeX (Typesetting), CorelDRAW (Visual Composition)\\nLanguages\\n– English\\n* Fluent: Reading / Writing\\n* Intermediate / Advanced: Speaking\\n5')]"
      ]
     },
     "execution_count": 11,
     "metadata": {},
     "output_type": "execute_result"
    }
   ],
   "source": [
    "Cv_Belen"
   ]
  },
  {
   "cell_type": "code",
   "execution_count": 12,
   "metadata": {},
   "outputs": [
    {
     "name": "stdout",
     "output_type": "stream",
     "text": [
      "Santiago Francisco BELEN DEAS\n",
      "Personal Information\n",
      "Address: Av. Corrientes 16204piso Dto: “B” CP: 10\n",
      "----\n",
      "2015 – 2018\n",
      "Teaching Physician in Clinical Examination and Internal Medicine 5th Chair of Internal M\n",
      "----\n"
     ]
    }
   ],
   "source": [
    "# Revisamos que ahora Cv_Belen contenga los chunks correctamente\n",
    "for chunk in Cv_Belen[:2]:\n",
    "    print(chunk.page_content[:100])\n",
    "    print(\"----\")"
   ]
  },
  {
   "cell_type": "markdown",
   "metadata": {},
   "source": [
    "---\n"
   ]
  },
  {
   "cell_type": "code",
   "execution_count": 13,
   "metadata": {},
   "outputs": [
    {
     "name": "stdout",
     "output_type": "stream",
     "text": [
      "index llm-tp2 borrado\n",
      "index creado con el nombre: llm-tp2\n"
     ]
    }
   ],
   "source": [
    "# CARGA LOS DOCUMENTOS Y VECTORES A LA BASE DE DATOS PINECONE\n",
    "## CONEXIÓN CON LA BASE DE DATOS DE PINECONE\n",
    "from pinecone import Pinecone, ServerlessSpec\n",
    "\n",
    "\n",
    "# Conecta a la base de datos Pinecone\n",
    "pc = Pinecone(api_key=PINECONE_API_KEY)  # Inicializa la conexión a Pinecone utilizando la clave API\n",
    "cloud = os.environ.get('PINECONE_CLOUD') or 'aws'  # Obtiene la configuración de la nube, por defecto 'aws'\n",
    "region = os.environ.get('PINECONE_REGION') or 'us-east-1'  # Obtiene la región de Pinecone, por defecto 'us-east-1'\n",
    "spec = ServerlessSpec(cloud=cloud, region=region)  # Crea una especificación sin servidor para la conexión a Pinecone\n",
    "index_name = 'llm-tp2'  # Nombre del índice en Pinecone\n",
    "\n",
    "# Elimina el índice si ya existe en Pinecone\n",
    "if index_name in pc.list_indexes().names():\n",
    "    pc.delete_index(index_name)  # Elimina el índice si ya existe\n",
    "    print(\"index {} borrado\".format(index_name))  # Imprime un mensaje indicando que el índice fue borrado\n",
    "\n",
    "# Verifica si el índice no existe y lo crea\n",
    "if index_name not in pc.list_indexes().names():\n",
    "    print(\"index creado con el nombre: {}\".format(index_name))  # Imprime un mensaje indicando que el índice será creado\n",
    "    pc.create_index(\n",
    "        index_name,\n",
    "        dimension=3072,  # Dimensionalidad del modelo de embedding\n",
    "        metric='cosine',  # Métrica para comparar vectores (usando distancia coseno)\n",
    "        spec=spec  # Especificación de conexión\n",
    "    )\n",
    "else:\n",
    "    print(\"el index con el nombre {} ya estaba creado\".format(index_name))  # Imprime un mensaje si el índice ya existía\n"
   ]
  },
  {
   "cell_type": "markdown",
   "metadata": {},
   "source": [
    "---"
   ]
  },
  {
   "cell_type": "code",
   "execution_count": 14,
   "metadata": {},
   "outputs": [
    {
     "name": "stdout",
     "output_type": "stream",
     "text": [
      "upserted values to llm-tp2 index under namespace espacio_Belen\n",
      "upserted values to llm-tp2 index under namespace espacio_Deshays\n"
     ]
    }
   ],
   "source": [
    "## INSERCIÓN DE LOS VECTORES EN LA BASE DE DATOS DE PINECONE\n",
    "\n",
    "# Define diferentes espacios de nombres para tesis y currículum\n",
    "namespace_Belen = \"espacio_Belen\"  # Espacio de nombres para el CV Belen\n",
    "namespace_Deshays = \"espacio_Deshays\"  # Espacio de nombres para el CV Deshays\n",
    "\n",
    "# Inserta los documentos en la base de datos Pinecone\n",
    "docsearch_Belen = PineconeVectorStore.from_documents(\n",
    "    documents=Cv_Belen,  # Documentos de tesis divididos a insertar\n",
    "    index_name=index_name,  # Nombre del índice en Pinecone\n",
    "    embedding=embed_model,  # Modelo de embeddings a usar\n",
    "    namespace=namespace_Belen  # Espacio de nombres definido para tesis\n",
    ")\n",
    "\n",
    "print(\"upserted values to {} index under namespace {}\".format(index_name, namespace_Belen))  # Imprime un mensaje indicando que los valores fueron insertados\n",
    "\n",
    "# Inserta los documentos en la base de datos Pinecone\n",
    "docsearch_Deshays = PineconeVectorStore.from_documents(\n",
    "    documents=Cv_Deshays,  # Documentos de currículum divididos a insertar\n",
    "    index_name=index_name,  # Nombre del índice en Pinecone\n",
    "    embedding=embed_model,  # Modelo de embeddings a usar\n",
    "    namespace=namespace_Deshays  # Espacio de nombres definido para currículum\n",
    ")\n",
    "print(\"upserted values to {} index under namespace {}\".format(index_name, namespace_Deshays))  # Imprime un mensaje indicando que los valores fueron insertados\n",
    "\n",
    "time.sleep(1)  # Pausa de 1 segundo\n"
   ]
  },
  {
   "cell_type": "markdown",
   "metadata": {},
   "source": [
    "---\n"
   ]
  },
  {
   "cell_type": "code",
   "execution_count": 15,
   "metadata": {},
   "outputs": [],
   "source": [
    "# Reconectar a Pinecone\n",
    "PINECONE_API_KEY = os.getenv(\"PINECONE_API_KEY\")  # Obtiene la clave API de Pinecone desde las variables de entorno nuevamente\n",
    "pc = Pinecone(api_key=PINECONE_API_KEY)  # Inicializa la conexión a Pinecone utilizando la clave API\n",
    "index_name = 'llm-tp2'  # Nombre del índice principal\n",
    "\n",
    "# Inicializa el vectorstore para los documentos de Belen\n",
    "vectorstore_Belen = PineconeVectorStore(\n",
    "    index_name=index_name,  # Nombre del índice\n",
    "    embedding=embed_model,  # Modelo de embeddings a usar\n",
    "    namespace=namespace_Belen  # Espacio de nombres definido para tesis\n",
    ")\n",
    "retriever_Belen = vectorstore_Belen.as_retriever()  # Crea un objeto para recuperar documentos del índice de tesis\n",
    "\n",
    "# Inicializa el vectorstore para los documentos de currículum\n",
    "vectorstore_Deshays = PineconeVectorStore(\n",
    "    index_name=index_name,  # Nombre del índice\n",
    "    embedding=embed_model,  # Modelo de embeddings a usar\n",
    "    namespace=namespace_Deshays  # Espacio de nombres definido para currículum\n",
    ")\n",
    "retriever_Deshays = vectorstore_Deshays.as_retriever()  # Crea un objeto para recuperar documentos del índice de currículum\n"
   ]
  },
  {
   "cell_type": "markdown",
   "metadata": {},
   "source": [
    "---\n"
   ]
  },
  {
   "cell_type": "code",
   "execution_count": 19,
   "metadata": {},
   "outputs": [
    {
     "data": {
      "text/plain": [
       "[Document(id='d102115d-4354-4fc1-8d59-5363e94e0297', metadata={'source': 'santiago_cv.odt'}, page_content='Santiago Francisco BELEN DEAS\\nPersonal Information\\nAddress: Av. Corrientes 16204piso Dto: “B” CP: 1042 Nationality: Argentine and Spanish.\\nCity: Capital Federal, Buenos Aires, Argentina\\nPhone Number: +54 9 11-5715-9118\\nDate of Birth: 26/06/1984\\nNational ID: 32.182.510\\nE-mail: Sbelen@fmed.uba.ar\\nProfessional Profile\\nMedical Specialist in Internal Medicine and Clinical Research Professional with extensive knowledge in multiple therapeutic areas, currently pursuing a Specialization in Artificial Intelligence at the University of Buenos Aires.\\nExperienced Teaching Physician in Clinical Examination and Internal Medicine, with a strong commitment to medical education and clinical supervision. Actively participated as a Sub-Investigator in Phase 2/3 clinical trials, contributing to pivotal studies, includ ing Pfizer’s RSV and Influenza vaccines (C3671013 / C4781004), Moderna’s RSV and Influenza vaccines (mRNA-1345-P301 / mRNA1010-P301), and Medicago’s COVID-19 vaccine (CP-PRO-CoVLP-021).\\nDemonstrated leadership and mentorship in clinical and academic settings, fostering a collaborative learning environment for emerging medical professionals.\\n1\\nEducation\\nCurrent Studies\\n2024 – Present\\nSpecialization in Artificial Intelligence(In Progress)\\nFaculty of Engineering, University of Buenos Aires (UBA), Argentina\\nUniversity\\n2011 – 2015\\nDegree Obtained: Medical Specialist in Internal Medicine\\nFaculty of Medical Sciences, University of Buenos Aires (UBA)\\nOverall GPA: 9/10\\n2003 – 2011\\nDegree Obtained: Medical Doctor\\nFaculty of Medical Sciences, University of Buenos Aires (UBA)\\nOverall GPA: 8.61/10\\nHigh School Education\\n2001\\nDegree Obtained: High School Diploma with specialization in Computer Systems San Roque Institute, Buenos Aires City\\n2\\nProfessional Experience\\nJan 2022 – Nov 2024\\nSub-Investigator for Phase 3 Clinical Trials\\nEquipo Ciencia CRO\\nActively contributed to pivotal Phase 3 clinical trials, including studies for Pfizer’s RSV and Influenza vaccines (C3671013 / C4781004), Moderna’s RSV and Influenza vaccines (mRNA-1345-P301 / mRNA1010-P301), and Medicago’s COVID-19 vaccine (CP-PRO CoVLP-021). Responsibilities included identification of adverse events, protocol adher ence, data management, and maintaining compliance with Good Clinical Practice (GCP) standards.\\n2015 – 2022\\nMedical Specialist in Internal Medicine\\nDelivered specialized care for complex cases in internal medicine, employing evidence based practices to improve patient outcomes. Participated in interdisciplinary collabora tion and provided guidance on patient care in hospital settings.\\n2018 – 2021\\nResearch Fellow in Basic and Clinical Immunology and Immunopathology INIGEM-CONICET\\nContributed to multiple research publications and presented findings at national and international conferences, collaborating with multidisciplinary teams to advance the field.\\n2015 – 2018')]"
      ]
     },
     "execution_count": 19,
     "metadata": {},
     "output_type": "execute_result"
    }
   ],
   "source": [
    "\n",
    "# Realiza una búsqueda de similitud en el vectorstore de tesis\n",
    "query = \"in which companies did santiago used to work\"  # Define la consulta para realizar la búsqueda\n",
    "documents_result = vectorstore_Belen.similarity_search(query, k=1)  # Realiza la búsqueda de los documentos más similares con k=1\n",
    "\n",
    "documents_result\n"
   ]
  },
  {
   "cell_type": "markdown",
   "metadata": {},
   "source": [
    "---"
   ]
  },
  {
   "cell_type": "code",
   "execution_count": 20,
   "metadata": {},
   "outputs": [
    {
     "name": "stdout",
     "output_type": "stream",
     "text": [
      "Resultado de la consulta en documentos Belen:\n",
      "Based on the provided information, there is no mention of Santiago Francisco BELEN DEAS having any experience or qualifications related to haircuts or hairstyling.\n",
      "{'query': 'does Santiago have any haircut experience', 'result': 'Based on the provided information, there is no mention of Santiago Francisco BELEN DEAS having any experience or qualifications related to haircuts or hairstyling.'}\n",
      "Resultado de la consulta en documentos Deshay:\n",
      "Yes, Octavio Deshays has experience with neural networks. He has worked with Multimodal Neural Networks, CNN, and CLIP based classifiers in his projects as a Machine Learning Engineer.\n",
      "{'query': 'does octavio have any neural network experience', 'result': 'Yes, Octavio Deshays has experience with neural networks. He has worked with Multimodal Neural Networks, CNN, and CLIP based classifiers in his projects as a Machine Learning Engineer.'}\n"
     ]
    }
   ],
   "source": [
    "# Realiza una consulta para obtener información sobre experiencia laboral en los documentos de tesis\n",
    "document_query_Belen = \"does Santiago have any haircut experience\"  # Define la consulta para obtener información específica sobre la tesis\n",
    "\n",
    "# Inicializa la cadena de recuperación y respuesta para los documentos de tesis\n",
    "qa_Belen = RetrievalQA.from_chain_type(  \n",
    "    llm=chat,  # Utiliza el modelo de lenguaje configurado previamente\n",
    "    chain_type=\"stuff\",  # Tipo de cadena utilizada para unir las respuestas\n",
    "    retriever=vectorstore_Belen.as_retriever()  # Utiliza el objeto retriever para obtener los documentos relevantes\n",
    ")  \n",
    "\n",
    "# Realiza la consulta en los documentos de tesis\n",
    "result_Belen = qa_Belen.invoke(document_query_Belen)  # Invoca la consulta para recuperar información de la tesis\n",
    "\n",
    "# Imprime el resultado de la consulta en los documentos de tesis\n",
    "print(\"Resultado de la consulta en documentos Belen:\")\n",
    "print(result_Belen['result'])  # Imprime la parte 'result' del resultado\n",
    "print(result_Belen)  # Imprime el resultado completo\n",
    "\n",
    "# Realiza una consulta para obtener información sobre experiencia laboral en los documentos de currículum\n",
    "document_query_Deshays = \"does octavio have any neural network experience\"  # Define la consulta para obtener información específica sobre el currículum\n",
    "\n",
    "# Inicializa la cadena de recuperación y respuesta para los documentos de currículum\n",
    "qa_Deshays = RetrievalQA.from_chain_type(  \n",
    "    llm=chat,  # Utiliza el modelo de lenguaje configurado previamente\n",
    "    chain_type=\"stuff\",  # Tipo de cadena utilizada para unir las respuestas\n",
    "    retriever=vectorstore_Deshays.as_retriever()  # Utiliza el objeto retriever para obtener los documentos relevantes del índice de currículum\n",
    ") \n",
    "\n",
    "# Realiza la consulta en el currículum\n",
    "result_Deshay = qa_Deshays.invoke(document_query_Deshays)  # Invoca la consulta para recuperar información del currículum\n",
    "\n",
    "# Imprime el resultado de la consulta en los documentos de currículum\n",
    "print(\"Resultado de la consulta en documentos Deshay:\")\n",
    "print(result_Deshay['result'])  # Imprime la parte 'result' del resultado\n",
    "print(result_Deshay)  # Imprime el resultado completo"
   ]
  }
 ],
 "metadata": {
  "kernelspec": {
   "display_name": "Vision1",
   "language": "python",
   "name": "python3"
  },
  "language_info": {
   "codemirror_mode": {
    "name": "ipython",
    "version": 3
   },
   "file_extension": ".py",
   "mimetype": "text/x-python",
   "name": "python",
   "nbconvert_exporter": "python",
   "pygments_lexer": "ipython3",
   "version": "3.12.7"
  }
 },
 "nbformat": 4,
 "nbformat_minor": 2
}
